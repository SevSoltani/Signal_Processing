{
 "cells": [
  {
   "cell_type": "code",
   "execution_count": 1,
   "metadata": {},
   "outputs": [
    {
     "name": "stderr",
     "output_type": "stream",
     "text": [
      "C:\\Anaconda3\\lib\\site-packages\\sklearn\\utils\\deprecation.py:144: FutureWarning: The sklearn.utils.testing module is  deprecated in version 0.22 and will be removed in version 0.24. The corresponding classes / functions should instead be imported from sklearn.utils. Anything that cannot be imported from sklearn.utils is now part of the private API.\n",
      "  warnings.warn(message, FutureWarning)\n"
     ]
    }
   ],
   "source": [
    "import pandas as pd\n",
    "import matplotlib.pyplot as plt\n",
    "import numpy as np\n",
    "from scipy.signal import argrelextrema\n",
    "from scipy.signal import welch\n",
    "from sklearn.decomposition import PCA\n",
    "from sklearn.svm import SVC\n",
    "from sklearn.utils.testing import ignore_warnings\n",
    "from sklearn.exceptions import ConvergenceWarning\n",
    "from sklearn.naive_bayes import GaussianNB"
   ]
  },
  {
   "cell_type": "code",
   "execution_count": 2,
   "metadata": {},
   "outputs": [],
   "source": [
    "data = pd.read_csv('data.csv')"
   ]
  },
  {
   "cell_type": "code",
   "execution_count": 3,
   "metadata": {},
   "outputs": [],
   "source": [
    "data['y'] = [num if num == 1 else 0 for num in data['y']]\n",
    "data = data.drop(columns = 'Unnamed: 0')\n",
    "data = data.to_numpy()\n",
    "label = data[:,data.shape[1] - 1]\n",
    "data = data[:,0:data.shape[1] - 1]"
   ]
  },
  {
   "cell_type": "code",
   "execution_count": 5,
   "metadata": {},
   "outputs": [],
   "source": [
    "N = data[0].shape[0]\n",
    "T = 1 # seconds\n",
    "f_s = N/T # sampling rate\n",
    "T_s = (f_s)**-1 # time bewteen samples"
   ]
  },
  {
   "cell_type": "code",
   "execution_count": 6,
   "metadata": {},
   "outputs": [],
   "source": [
    "def Extract_Data(data):\n",
    "    ## FFT\n",
    "    FFT = 2*np.fft.fft(data)/len(data)\n",
    "    freq = np.fft.fftfreq(len(FFT), T_s)\n",
    "    \n",
    "    FFT = np.abs(FFT[freq>=0])\n",
    "    freq = freq[freq>=0]\n",
    "    \n",
    "    FFT_data = Get_Top_N_Amplitude(freq, FFT, 6)\n",
    "\n",
    "    ## PSD\n",
    "    freq, PSD = welch(data, fs = f_s)\n",
    "    PSD = np.log10(PSD)\n",
    "    PSD_data = Get_Top_N_Amplitude(freq, PSD, 6)\n",
    "    \n",
    "    ## Autocorrelation\n",
    "\n",
    "    result = np.correlate(data, data, mode='full')\n",
    "    result = result[len(result)//2:]/np.max(result)\n",
    "    x_values = np.array([T_s * jj for jj in range(0, N)])\n",
    "    autocorr_data = Get_Top_N_Amplitude(x_values, result, 3)\n",
    "    \n",
    "    \n",
    "    return np.concatenate((FFT_data,PSD_data,autocorr_data))\n",
    "    \n",
    "    \n",
    "\n",
    "def Get_Top_N_Amplitude(x,amplitude,n):\n",
    "    maxInd = argrelextrema(amplitude, np.greater)\n",
    "\n",
    "    y = amplitude[maxInd] #amp\n",
    "    x = x[maxInd] #freq\n",
    "    try:\n",
    "        y, x = zip(*sorted(zip(y, x), reverse = True))\n",
    "    except ValueError:\n",
    "        \n",
    "        pass\n",
    "    \n",
    "    return np.concatenate((x[0:n],y[0:n]))"
   ]
  },
  {
   "cell_type": "code",
   "execution_count": 7,
   "metadata": {},
   "outputs": [
    {
     "name": "stderr",
     "output_type": "stream",
     "text": [
      "C:\\Anaconda3\\lib\\site-packages\\scipy\\signal\\spectral.py:1966: UserWarning: nperseg = 256 is greater than input length  = 178, using nperseg = 178\n",
      "  .format(nperseg, input_length))\n"
     ]
    }
   ],
   "source": [
    "my_array = np.empty((data.shape[0], 30))\n",
    "for i in range(0,data.shape[0]):\n",
    "    new_row = Extract_Data(data[i])\n",
    "    if len(new_row) < 30:\n",
    "        pass\n",
    "    else:\n",
    "        my_array[i] = Extract_Data(data[i])"
   ]
  },
  {
   "cell_type": "code",
   "execution_count": 8,
   "metadata": {},
   "outputs": [],
   "source": [
    "new_arr = my_array[my_array[:,0] != 0]\n",
    "new_labels = label[my_array[:,0] != 0]"
   ]
  },
  {
   "cell_type": "code",
   "execution_count": 9,
   "metadata": {},
   "outputs": [
    {
     "name": "stdout",
     "output_type": "stream",
     "text": [
      "[0.90139718 0.05955518 0.01429474]\n"
     ]
    }
   ],
   "source": [
    "pca = PCA(n_components = 3)\n",
    "pca.fit(new_arr)\n",
    "\n",
    "print(pca.explained_variance_ratio_)\n"
   ]
  },
  {
   "cell_type": "code",
   "execution_count": 10,
   "metadata": {},
   "outputs": [],
   "source": [
    "PCAed = pca.transform(new_arr)"
   ]
  },
  {
   "cell_type": "code",
   "execution_count": 11,
   "metadata": {},
   "outputs": [
    {
     "data": {
      "text/plain": [
       "(11087, 3)"
      ]
     },
     "execution_count": 11,
     "metadata": {},
     "output_type": "execute_result"
    }
   ],
   "source": [
    "PCAed.shape"
   ]
  },
  {
   "cell_type": "code",
   "execution_count": 12,
   "metadata": {},
   "outputs": [
    {
     "data": {
      "text/plain": [
       "<matplotlib.collections.PathCollection at 0x2393178bda0>"
      ]
     },
     "execution_count": 12,
     "metadata": {},
     "output_type": "execute_result"
    },
    {
     "data": {
      "image/png": "[encoded data removed]",
      "text/plain": [
       "<Figure size 432x288 with 1 Axes>"
      ]
     },
     "metadata": {
      "needs_background": "light"
     },
     "output_type": "display_data"
    }
   ],
   "source": [
    "plt.scatter(PCAed[:,1][new_labels == 1], PCAed[:,2][new_labels == 1],c='r')\n",
    "plt.scatter(PCAed[:,1][new_labels == 0], PCAed[:,2][new_labels == 0],c='b')"
   ]
  },
  {
   "cell_type": "code",
   "execution_count": 13,
   "metadata": {},
   "outputs": [],
   "source": [
    "from sklearn.model_selection import train_test_split\n",
    "from sklearn.neighbors import KNeighborsClassifier"
   ]
  },
  {
   "cell_type": "code",
   "execution_count": 14,
   "metadata": {},
   "outputs": [],
   "source": [
    "X_train, X_test, y_train, y_test = train_test_split(PCAed, new_labels, test_size = 0.20, random_state = 42)"
   ]
  },
  {
   "cell_type": "code",
   "execution_count": 15,
   "metadata": {},
   "outputs": [
    {
     "name": "stdout",
     "output_type": "stream",
     "text": [
      "n =  2 0.9652840396753832\n",
      "n =  3 0.9711451758340848\n",
      "n =  4 0.9697926059513075\n",
      "n =  5 0.9747520288548241\n",
      "n =  6 0.9738503155996393\n",
      "n =  7 0.9747520288548241\n",
      "n =  8 0.975653742110009\n",
      "n =  9 0.9752028854824166\n",
      "n =  10 0.9733994589720469\n",
      "n =  11 0.9743011722272318\n",
      "n =  12 0.975653742110009\n",
      "n =  13 0.9747520288548241\n",
      "n =  14 0.9752028854824166\n",
      "n =  15 0.9765554553651938\n",
      "n =  16 0.9765554553651938\n",
      "n =  17 0.9761045987376015\n",
      "n =  18 0.9761045987376015\n",
      "n =  19 0.975653742110009\n"
     ]
    }
   ],
   "source": [
    "for num in range(2,20):\n",
    "    neigh = KNeighborsClassifier(n_neighbors=num)\n",
    "    neigh.fit(X_train, y_train)\n",
    "    print('n = ', num, neigh.score(X_test, y_test))"
   ]
  },
  {
   "cell_type": "code",
   "execution_count": 16,
   "metadata": {},
   "outputs": [
    {
     "name": "stdout",
     "output_type": "stream",
     "text": [
      "kernel =  linear ,  0.9747520288548241\n",
      "kernel =  poly , degree =  2 ,  0.9346257889990983\n",
      "kernel =  poly , degree =  3 ,  0.9449954914337241\n",
      "kernel =  poly , degree =  4 ,  0.9292155094679891\n",
      "kernel =  poly , degree =  5 ,  0.9260595130748422\n",
      "kernel =  rbf ,  0.975653742110009\n",
      "kernel =  sigmoid ,  0.9359783588818755\n"
     ]
    }
   ],
   "source": [
    "for kernel in ['linear', 'poly', 'rbf', 'sigmoid']:\n",
    "    if kernel == 'poly':\n",
    "        for degree in [2,3,4,5]:\n",
    "            clf = SVC(kernel = kernel, degree = degree)\n",
    "            clf.fit(X_train, y_train)\n",
    "            print('kernel = ', kernel, ', degree = ', degree, ', ', clf.score(X_test, y_test))\n",
    "    else:\n",
    "        clf = SVC(kernel = kernel)\n",
    "        clf.fit(X_train, y_train)\n",
    "        print('kernel = ', kernel, ', ', clf.score(X_test, y_test))"
   ]
  },
  {
   "cell_type": "code",
   "execution_count": 17,
   "metadata": {},
   "outputs": [
    {
     "name": "stdout",
     "output_type": "stream",
     "text": [
      "loss =  squared_hinge ,  penalty =  l1 ,  dual problem =  False ,  regularization =  0.7 ,  0.9697926059513075\n",
      "loss =  squared_hinge ,  penalty =  l1 ,  dual problem =  False ,  regularization =  0.8 ,  0.9697926059513075\n",
      "loss =  squared_hinge ,  penalty =  l1 ,  dual problem =  False ,  regularization =  0.9 ,  0.9697926059513075\n",
      "loss =  squared_hinge ,  penalty =  l1 ,  dual problem =  False ,  regularization =  1 ,  0.9697926059513075\n",
      "loss =  squared_hinge ,  penalty =  l1 ,  dual problem =  False ,  regularization =  1.1 ,  0.9697926059513075\n",
      "loss =  hinge ,  penalty =  l2 ,  dual problem =  True ,  regularization =  0.7 ,  0.9733994589720469\n",
      "loss =  hinge ,  penalty =  l2 ,  dual problem =  True ,  regularization =  0.8 ,  0.9743011722272318\n",
      "loss =  hinge ,  penalty =  l2 ,  dual problem =  True ,  regularization =  0.9 ,  0.9571686203787195\n",
      "loss =  hinge ,  penalty =  l2 ,  dual problem =  True ,  regularization =  1 ,  0.9752028854824166\n",
      "loss =  hinge ,  penalty =  l2 ,  dual problem =  True ,  regularization =  1.1 ,  0.9720468890892696\n",
      "loss =  squared_hinge ,  penalty =  l2 ,  dual problem =  True ,  regularization =  0.7 ,  0.9752028854824166\n",
      "loss =  squared_hinge ,  penalty =  l2 ,  dual problem =  True ,  regularization =  0.8 ,  0.9743011722272318\n",
      "loss =  squared_hinge ,  penalty =  l2 ,  dual problem =  True ,  regularization =  0.9 ,  0.9643823264201984\n",
      "loss =  squared_hinge ,  penalty =  l2 ,  dual problem =  True ,  regularization =  1 ,  0.9747520288548241\n",
      "loss =  squared_hinge ,  penalty =  l2 ,  dual problem =  True ,  regularization =  1.1 ,  0.9743011722272318\n",
      "loss =  squared_hinge ,  penalty =  l2 ,  dual problem =  False ,  regularization =  0.7 ,  0.9697926059513075\n",
      "loss =  squared_hinge ,  penalty =  l2 ,  dual problem =  False ,  regularization =  0.8 ,  0.9697926059513075\n",
      "loss =  squared_hinge ,  penalty =  l2 ,  dual problem =  False ,  regularization =  0.9 ,  0.9697926059513075\n",
      "loss =  squared_hinge ,  penalty =  l2 ,  dual problem =  False ,  regularization =  1 ,  0.9697926059513075\n",
      "loss =  squared_hinge ,  penalty =  l2 ,  dual problem =  False ,  regularization =  1.1 ,  0.9697926059513075\n"
     ]
    }
   ],
   "source": [
    "from sklearn.svm import LinearSVC\n",
    "penalties = ['l1', 'l2']\n",
    "losses = ['hinge', 'squared_hinge']\n",
    "duals = [True, False]\n",
    "Cs = [0.7, 0.8, 0.9, 1, 1.1]\n",
    "\n",
    "'''for penalty in penalties:\n",
    "    for dual in [False]:\n",
    "        for C in Cs:\n",
    "            clf = LinearSVC(penalty = penalty, dual = False, C = C)\n",
    "            clf.fit(X_train, y_train)\n",
    "            print('penalty = ', penalty, ', ', 'dual problem = ', dual, ', ', 'regularization = ', C , ', ', clf.score(X_test, y_test))\n",
    "      '''    \n",
    "from warnings import filterwarnings\n",
    "filterwarnings('ignore')\n",
    "for penalty in penalties:\n",
    "    for loss in losses:\n",
    "        for dual in duals:\n",
    "            for C in Cs:\n",
    "                try:\n",
    "                    clf = LinearSVC(loss = loss,penalty = penalty,  dual = dual, C = C, max_iter = 2000)\n",
    "                    clf.fit(X_train, y_train)\n",
    "                    print('loss = ', loss, ', ', 'penalty = ', penalty, ', ', 'dual problem = ', dual, ', ', 'regularization = ', C , ', ', clf.score(X_test, y_test))\n",
    "                except ValueError:\n",
    "                    continue"
   ]
  },
  {
   "cell_type": "code",
   "execution_count": 18,
   "metadata": {},
   "outputs": [
    {
     "data": {
      "text/plain": [
       "0.9580703336339044"
      ]
     },
     "execution_count": 18,
     "metadata": {},
     "output_type": "execute_result"
    }
   ],
   "source": [
    "nb = GaussianNB()\n",
    "nb.fit(X_train, y_train)\n",
    "nb.score(X_test, y_test)"
   ]
  }
 ],
 "metadata": {
  "kernelspec": {
   "display_name": "Python 3",
   "language": "python",
   "name": "python3"
  },
  "language_info": {
   "codemirror_mode": {
    "name": "ipython",
    "version": 3
   },
   "file_extension": ".py",
   "mimetype": "text/x-python",
   "name": "python",
   "nbconvert_exporter": "python",
   "pygments_lexer": "ipython3",
   "version": "3.6.10"
  }
 },
 "nbformat": 4,
 "nbformat_minor": 4
}
